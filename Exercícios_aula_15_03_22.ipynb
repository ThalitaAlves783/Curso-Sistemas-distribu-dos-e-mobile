{
  "nbformat": 4,
  "nbformat_minor": 0,
  "metadata": {
    "colab": {
      "name": "Exercícios aula 15-03-22.ipynb",
      "provenance": [],
      "collapsed_sections": []
    },
    "kernelspec": {
      "name": "python3",
      "display_name": "Python 3"
    },
    "language_info": {
      "name": "python"
    }
  },
  "cells": [
    {
      "cell_type": "markdown",
      "source": [
        "Escreva um algoritmo que imprima na tela: Olá Mundo!"
      ],
      "metadata": {
        "id": "-GNUbh-4DEkD"
      }
    },
    {
      "cell_type": "code",
      "execution_count": null,
      "metadata": {
        "id": "NjaKqdBh3PHg"
      },
      "outputs": [],
      "source": [
        "print(\"ola Mundo!!\")"
      ]
    },
    {
      "cell_type": "markdown",
      "source": [
        "Escreva um programa que imprima seu nome na tela."
      ],
      "metadata": {
        "id": "f-eqORQGDXC5"
      }
    },
    {
      "cell_type": "code",
      "source": [
        "print(\"Thalita Alves\")"
      ],
      "metadata": {
        "id": "tPGY0dSC79bg"
      },
      "execution_count": null,
      "outputs": []
    },
    {
      "cell_type": "code",
      "source": [
        "O que o código a seguir imprime?"
      ],
      "metadata": {
        "id": "GwZ5RE-tDcjR"
      },
      "execution_count": null,
      "outputs": []
    },
    {
      "cell_type": "code",
      "source": [
        "\n",
        "print(\"*\\n**\\n***\\n****\\n*****\")\n",
        "#Resultado:\n",
        "#*\n",
        "#**\n",
        "#***\n",
        "#****\n",
        "#*****"
      ],
      "metadata": {
        "id": "ZXOlSg4R8IFI"
      },
      "execution_count": null,
      "outputs": []
    },
    {
      "cell_type": "markdown",
      "source": [
        "#O que aparece na janela do console, quando cada uma das instruções abaixo são executadas, para: x = 2 e y = 3? \n",
        "#Execute cada uma das linhas abaixos e, se necessário, faça os devidos ajustes no código."
      ],
      "metadata": {
        "id": "vykAk5kRDl1Y"
      }
    },
    {
      "cell_type": "code",
      "source": [
        "x=2\n",
        "y=3\n",
        "print(x)\n",
        "print(+ (x + x))\n",
        "#print((x + y) + ' = ' + (y + x))"
      ],
      "metadata": {
        "colab": {
          "base_uri": "https://localhost:8080/"
        },
        "id": "3b-dcIxn8xU5",
        "outputId": "334a83d1-c3d0-4c98-adca-268c176f4cd6"
      },
      "execution_count": null,
      "outputs": [
        {
          "output_type": "stream",
          "name": "stdout",
          "text": [
            "2\n",
            "4\n"
          ]
        }
      ]
    },
    {
      "cell_type": "markdown",
      "source": [
        "#Escreva um algoritmo que imprima na tela a seguinte mensagem:\n",
        "#A programação é aprendida escrevendo programas - Brian Kernighan"
      ],
      "metadata": {
        "id": "VVI_HcHmDswQ"
      }
    },
    {
      "cell_type": "code",
      "source": [
        "\n",
        "print('A programação é aprendida escrevendo programas - Brian Kernighan')"
      ],
      "metadata": {
        "colab": {
          "base_uri": "https://localhost:8080/"
        },
        "id": "EzT9kxCO9wim",
        "outputId": "de0694dd-9bca-4755-dd49-ef4f0923ae5f"
      },
      "execution_count": null,
      "outputs": [
        {
          "output_type": "stream",
          "name": "stdout",
          "text": [
            "A programação é aprendida escrevendo programas - Brian Kernighan\n"
          ]
        }
      ]
    },
    {
      "cell_type": "markdown",
      "source": [
        "#Crie um algoritmo que imprima o produto entre os números 25 e 27"
      ],
      "metadata": {
        "id": "neTL7AjTDxnv"
      }
    },
    {
      "cell_type": "code",
      "source": [
        "produto = 25*27\n",
        "print(produto)"
      ],
      "metadata": {
        "colab": {
          "base_uri": "https://localhost:8080/"
        },
        "id": "fC5cqAil-L3u",
        "outputId": "648ffd4b-5648-46b4-a893-58987028f1ce"
      },
      "execution_count": null,
      "outputs": [
        {
          "output_type": "stream",
          "name": "stdout",
          "text": [
            "675\n"
          ]
        }
      ]
    },
    {
      "cell_type": "markdown",
      "source": [
        "#Crie um algoritmo que imprima a média aritmética entre os números 4, 12, 15."
      ],
      "metadata": {
        "id": "YaHRXIvUD4HH"
      }
    },
    {
      "cell_type": "code",
      "source": [
        "\n",
        "print((4+12+15)/3)"
      ],
      "metadata": {
        "colab": {
          "base_uri": "https://localhost:8080/"
        },
        "id": "1wfHczZu-W4l",
        "outputId": "b99b0a1c-1f75-404d-ff66-477ae88c38da"
      },
      "execution_count": null,
      "outputs": [
        {
          "output_type": "stream",
          "name": "stdout",
          "text": [
            "10.333333333333334\n"
          ]
        }
      ]
    },
    {
      "cell_type": "markdown",
      "source": [
        "#Faça um programa que leia um número inteiro e mostre-o na tela da seguinte forma:\n",
        "#O número inteiro digitado foi 4."
      ],
      "metadata": {
        "id": "58t7GdOTKMeo"
      }
    },
    {
      "cell_type": "code",
      "source": [
        "print('Digite um número')\n",
        "numero = input()\n",
        "print('O número inteiro digitado foi '+ numero)"
      ],
      "metadata": {
        "colab": {
          "base_uri": "https://localhost:8080/"
        },
        "id": "NQbvX8xv-7mV",
        "outputId": "8be2f332-16fc-43fe-9b22-a7916ba56e5c"
      },
      "execution_count": null,
      "outputs": [
        {
          "output_type": "stream",
          "name": "stdout",
          "text": [
            "Digite um número\n",
            "15\n",
            "O número inteiro digitado foi 15\n"
          ]
        }
      ]
    },
    {
      "cell_type": "markdown",
      "source": [
        "#Faça um programa que leia e imprima dois números inteiros na tela.\n"
      ],
      "metadata": {
        "id": "xhRFUvORKRLn"
      }
    },
    {
      "cell_type": "code",
      "source": [
        "print('Digite um número:')\n",
        "num1 =input()\n",
        "print('Digite outro numero')\n",
        "num2 =input()\n",
        "print('Voce digitou',num1, 'e', num2)"
      ],
      "metadata": {
        "id": "Yiuv1dlp_rvX"
      },
      "execution_count": null,
      "outputs": []
    },
    {
      "cell_type": "markdown",
      "source": [
        "#Faça um programa que leia um número inteiro e imprima seu número sucessor e antecessor."
      ],
      "metadata": {
        "id": "5MvSc4lgKZYv"
      }
    },
    {
      "cell_type": "code",
      "source": [
        "numero = input()\n",
        "suc = numero + 1\n",
        "ant = numero - 1\n",
        "print('Você digitou o numero ',numero,'o seu sucessor é: ',suc,'e o seu antecessor é: ',ant)"
      ],
      "metadata": {
        "id": "H6qPj8JPBOki"
      },
      "execution_count": null,
      "outputs": []
    },
    {
      "cell_type": "markdown",
      "source": [
        "Faça um programa que leia o nome, endereço e telefone de um usuário e imprima na tela."
      ],
      "metadata": {
        "id": "bVS5JsF6Kdim"
      }
    },
    {
      "cell_type": "code",
      "source": [
        "#\n",
        "nome=input('Digite seu nome:')\n",
        "end=input('Digite seu endereço:')\n",
        "tel=input('Digite seu telefone')\n",
        "print('Seus dados são:',nome,\", \",end,\", \",tel)"
      ],
      "metadata": {
        "id": "Ka9bUmcpDE73"
      },
      "execution_count": null,
      "outputs": []
    },
    {
      "cell_type": "markdown",
      "source": [
        "#Faça um programa que leia e multiplique dois números inteiros."
      ],
      "metadata": {
        "id": "w3qx6JiTKjcm"
      }
    },
    {
      "cell_type": "code",
      "source": [
        "num1 = input(\"Digite um numero\")\n",
        "num1 = input(\"Digite outro numero\")\n",
        "mult = (num1) * (num2)\n",
        "print('O resultado da multiplicação é:',mult)"
      ],
      "metadata": {
        "id": "xsBphSjqE2ys"
      },
      "execution_count": null,
      "outputs": []
    },
    {
      "cell_type": "markdown",
      "source": [
        "Faça um programa que leia um número real e imprima a terça parte deste número."
      ],
      "metadata": {
        "id": "Qcsv1t4TLEMl"
      }
    },
    {
      "cell_type": "markdown",
      "source": [
        ""
      ],
      "metadata": {
        "id": "YAxMpgUhLF5l"
      }
    },
    {
      "cell_type": "code",
      "source": [
        "num = int(input('Digite um número '))\n",
        "resultado = num/3\n",
        "print('A terça parte desse número é : ',resultado)"
      ],
      "metadata": {
        "colab": {
          "base_uri": "https://localhost:8080/"
        },
        "id": "Poc2IzTEMqpT",
        "outputId": "8e551ad0-3979-4e86-bcfb-0fd080c8190d"
      },
      "execution_count": 3,
      "outputs": [
        {
          "output_type": "stream",
          "name": "stdout",
          "text": [
            "Digite um número29\n",
            "A terça parte desse número é :  9.666666666666666\n"
          ]
        }
      ]
    },
    {
      "cell_type": "markdown",
      "source": [
        "Faça um programa que leia dois números inteiros e imprima o dividendo, divisor, quociente e resto da divisão"
      ],
      "metadata": {
        "id": "y5yLEFi8LKkd"
      }
    },
    {
      "cell_type": "code",
      "source": [
        "num1 = int(input(\"Digite o primeiro numero: \"))\n",
        "num2 = int(input(\"Digite o segundo numero: \"))\n",
        "\n",
        "dividendo = num1\n",
        "divisor = num2\n",
        "quociente = dividendo/divisor\n",
        "resto = dividendo%divisor\n",
        "\n",
        "print(\"O dividendo é: \", dividendo)\n",
        "print(\"O divisor é: \", divisor)\n",
        "print(\"O quociente é: \", quociente)\n",
        "print(\"E o resto é: \", resto)"
      ],
      "metadata": {
        "colab": {
          "base_uri": "https://localhost:8080/"
        },
        "id": "Hf7Vl2cvN4UB",
        "outputId": "08f70dd4-53b6-4474-879a-f83ddc5fcde4"
      },
      "execution_count": 4,
      "outputs": [
        {
          "output_type": "stream",
          "name": "stdout",
          "text": [
            "Digite o primeiro numero: 10\n",
            "Digite o segundo numero: 2\n",
            "O dividendo é:  10\n",
            "O divisor é:  2\n",
            "O quociente é:  5.0\n",
            "E o resto é:  0\n"
          ]
        }
      ]
    },
    {
      "cell_type": "markdown",
      "source": [
        ""
      ],
      "metadata": {
        "id": "AYwMX23aLL2u"
      }
    },
    {
      "cell_type": "markdown",
      "source": [
        "Escreva um programa que solicite do usuário dois números, e imprima o resultado da soma, subtração, multiplicação e divisão."
      ],
      "metadata": {
        "id": "zVA1Hc_HLRD9"
      }
    },
    {
      "cell_type": "code",
      "source": [
        "num1 = int(input(\"Digite o primeiro numero: \"))\n",
        "num2 = int(input(\"Digite o segundo numero: \"))\n",
        "\n",
        "print('A soma é: ',num1+num2)\n",
        "print('A subtração é: ',num1-num2)\n",
        "print('A multiplicação2 é: ',num1*num2)\n",
        "print('A divisão é: ',num1/num2)"
      ],
      "metadata": {
        "colab": {
          "base_uri": "https://localhost:8080/"
        },
        "id": "Fqptw9fyOjL4",
        "outputId": "90f64b5c-a9f0-4979-b06b-a8deaca43f3c"
      },
      "execution_count": 7,
      "outputs": [
        {
          "output_type": "stream",
          "name": "stdout",
          "text": [
            "Digite o primeiro numero: 10\n",
            "Digite o segundo numero: 20\n",
            "A soma é:  30\n",
            "A subtração é:  -10\n",
            "A multiplicação é:  200\n",
            "A divisão é:  30\n"
          ]
        }
      ]
    },
    {
      "cell_type": "markdown",
      "source": [
        "Faça um programa que leia quatro números inteiros, calcule e mostre a soma desses números."
      ],
      "metadata": {
        "id": "kUM5SFkfLTu8"
      }
    },
    {
      "cell_type": "code",
      "source": [
        "num1 = int(input(\"Digite o primeiro numero: \"))\n",
        "num2 = int(input(\"Digite o segundo numero: \"))\n",
        "num3 = int(input(\"Digite o terceiro numero: \"))\n",
        "num4 = int(input(\"Digite o quarto numero: \"))\n",
        "print('A soma desses números é: ',num1+num2+num3+num4)"
      ],
      "metadata": {
        "colab": {
          "base_uri": "https://localhost:8080/"
        },
        "id": "p3VBOwpaPk2d",
        "outputId": "d0399f28-0ca4-4511-d812-7a645a813359"
      },
      "execution_count": 10,
      "outputs": [
        {
          "output_type": "stream",
          "name": "stdout",
          "text": [
            "Digite o primeiro numero: 2\n",
            "Digite o segundo numero: 2\n",
            "Digite o terceiro numero: 2\n",
            "Digite o quarto numero: 2\n",
            "A soma desses números é:  8\n"
          ]
        }
      ]
    },
    {
      "cell_type": "markdown",
      "source": [
        "Faça um programa que receba três notas, calcule e mostre a média aritmética."
      ],
      "metadata": {
        "id": "mLGXjRTeLWfc"
      }
    },
    {
      "cell_type": "code",
      "source": [
        "num1 = float(input(\"Digite o primeira nota: \"))\n",
        "num2 = float(input(\"Digite o segundoa nota: \"))\n",
        "num3 = float(input(\"Digite o terceira nota: \"))\n",
        "print('A média das notas digitadas acima é: ',(num1+num2+num3)/3)"
      ],
      "metadata": {
        "colab": {
          "base_uri": "https://localhost:8080/"
        },
        "id": "SHM1SY9wQJpT",
        "outputId": "2551bca4-53aa-4a53-92a7-0684ebbc7af9"
      },
      "execution_count": 11,
      "outputs": [
        {
          "output_type": "stream",
          "name": "stdout",
          "text": [
            "Digite o primeira nota: 5\n",
            "Digite o segundoa nota: 5\n",
            "Digite o terceira nota: 5\n",
            "A média das notas digitadas acima é:  5.0\n"
          ]
        }
      ]
    },
    {
      "cell_type": "markdown",
      "source": [
        "Faça um programa que receba três notas e seus respectivos pesos, calcule e mostre a média ponderada."
      ],
      "metadata": {
        "id": "JXnOS2PDLbzV"
      }
    },
    {
      "cell_type": "code",
      "source": [
        "num1 = float(input(\"Digite o primeira nota: \"))\n",
        "peso1 = int(input(\"Digite o peso equivalente: \"))\n",
        "num2 = float(input(\"Digite o segundoa nota: \"))\n",
        "peso2 = int(input(\"Digite o peso equivalente: \"))\n",
        "num3 = float(input(\"Digite o terceira nota: \"))\n",
        "peso3 = int(input(\"Digite o peso equivalente: \"))\n",
        "\n",
        "print(\"A média ponderada é: \"(num1+peso1)+(num2+peso2)+(num2+peso2))"
      ],
      "metadata": {
        "colab": {
          "base_uri": "https://localhost:8080/"
        },
        "id": "HzPbQd3ERMwL",
        "outputId": "8fed17f3-33ef-4daa-8b13-22e8de3f9d06"
      },
      "execution_count": 13,
      "outputs": [
        {
          "output_type": "stream",
          "name": "stdout",
          "text": [
            "Digite o primeira nota: 5\n",
            "Digite o peso equivalente: 2\n",
            "Digite o segundoa nota: 5\n",
            "Digite o peso equivalente: 2\n",
            "Digite o terceira nota: 5\n",
            "Digite o peso equivalente: 2\n",
            "21.0\n"
          ]
        }
      ]
    },
    {
      "cell_type": "markdown",
      "source": [
        "Faça um programa que receba o salário de um funcionário, calcule e mostre o novo salário, sabendo-se que este sofreu um aumento de 25%"
      ],
      "metadata": {
        "id": "vOAnXFKRLghF"
      }
    },
    {
      "cell_type": "code",
      "source": [
        "sal = float(input('Qual é o seu sãlario atual?'))\n",
        "print('Seu novo sálario é de: ',sal+(sal*0.25))"
      ],
      "metadata": {
        "colab": {
          "base_uri": "https://localhost:8080/"
        },
        "id": "vcvgOK2NSSYo",
        "outputId": "dafcb462-0e5b-46b4-8040-f312be67f12a"
      },
      "execution_count": 18,
      "outputs": [
        {
          "output_type": "stream",
          "name": "stdout",
          "text": [
            "Qual é o seu sãlario atual?1.200\n",
            "Seu novo sálario é de:  1.5\n"
          ]
        }
      ]
    },
    {
      "cell_type": "markdown",
      "source": [
        "Faça um programa que receba o salário de um funcionário e o percentual de aumento, calcule e mostre o valor do aumento e o novo salário"
      ],
      "metadata": {
        "id": "M5CogYuCLjm8"
      }
    },
    {
      "cell_type": "code",
      "source": [
        "sal = float(input('Qual é o seu sãlario atual?'))\n",
        "print(\"seu aumento foi de: \",sal*0.25)\n",
        "print('Seu novo sálario é de: ',sal+(sal*0.25))"
      ],
      "metadata": {
        "colab": {
          "base_uri": "https://localhost:8080/"
        },
        "id": "DqK-OQcCThtN",
        "outputId": "d2685237-433d-4a56-903e-88c74be1e914"
      },
      "execution_count": 19,
      "outputs": [
        {
          "output_type": "stream",
          "name": "stdout",
          "text": [
            "Qual é o seu sãlario atual?1.200\n",
            "seu aumento foi de:  0.3\n",
            "Seu novo sálario é de:  1.5\n"
          ]
        }
      ]
    },
    {
      "cell_type": "markdown",
      "source": [
        "Faça um programa que calcule e mostre a área de um triângulo. Sabe-se que:\n",
        "Área = (base * altura) / 2."
      ],
      "metadata": {
        "id": "KQEmHTeKLqZF"
      }
    },
    {
      "cell_type": "code",
      "source": [
        "base = int(input(\"Digite o valor da base: \"))\n",
        "alt = int(input(\"Digite o valor da altura: \"))\n",
        "print('A área do triangulo é:',(base*alt)/2)"
      ],
      "metadata": {
        "colab": {
          "base_uri": "https://localhost:8080/"
        },
        "id": "L1V717KrTxql",
        "outputId": "dcacaa26-c8ab-4f86-c332-93bd32132fff"
      },
      "execution_count": 20,
      "outputs": [
        {
          "output_type": "stream",
          "name": "stdout",
          "text": [
            "Digite o valor da base: 5\n",
            "Digite o valor da altura: 15\n",
            "A área do triangulo é: 37.5\n"
          ]
        }
      ]
    },
    {
      "cell_type": "markdown",
      "source": [
        "Escreva um programa que receba como entrada o raio de um círculo e imprima o diâmetro, a circunferência e a área. Para isso, utilize as fórmulas: diâmetro = 2r; circunferência = 2πr, área = πr²."
      ],
      "metadata": {
        "id": "ulM1tN-kLtNO"
      }
    },
    {
      "cell_type": "code",
      "source": [
        "raio = float(input('Qual o valor do raio: '))\n",
        "\n",
        "circ = 2 * 3.14 * raio\n",
        "area = 3.14 * (raio * raio)\n",
        "\n",
        "print(\"A circuferência do círculo: \",circ, \"sua área: \",area)"
      ],
      "metadata": {
        "colab": {
          "base_uri": "https://localhost:8080/"
        },
        "id": "yIR_re9KU3jL",
        "outputId": "95d858e6-b372-4ec0-90c5-a98141dbb7a0"
      },
      "execution_count": 21,
      "outputs": [
        {
          "output_type": "stream",
          "name": "stdout",
          "text": [
            "Qual o valor do raio: 10\n",
            "A circuferência do círculo:  62.800000000000004 sua área:  314.0\n"
          ]
        }
      ]
    },
    {
      "cell_type": "code",
      "source": [
        "Faça um programa que receba um número positivo e maior que zero, calcule e mostre:\n",
        "o número digitado ao quadrado;\n",
        "o número digitado ao cubo;\n",
        "a raiz quadrada do número digitado."
      ],
      "metadata": {
        "id": "goOxdqGMLw_F"
      },
      "execution_count": null,
      "outputs": []
    },
    {
      "cell_type": "code",
      "source": [
        "num1  =  int ( input ( 'Digite um numero: ' ))\n",
        "\n",
        "if  num1  >  0 :\n",
        "    print(\"seu quadrado é \",num1**2,\"ao cubo \", num1**3,\" a raiz quadrada \")\n",
        "elif  num1  <=  0 :\n",
        "    print ( \"numero inválido!\" )"
      ],
      "metadata": {
        "colab": {
          "base_uri": "https://localhost:8080/"
        },
        "id": "T3VhRG13VnGJ",
        "outputId": "0015365c-03bb-40f5-a37a-7a2b623a58d5"
      },
      "execution_count": 25,
      "outputs": [
        {
          "output_type": "stream",
          "name": "stdout",
          "text": [
            "Digite um numero: -1\n",
            "numero inválido!\n"
          ]
        }
      ]
    },
    {
      "cell_type": "markdown",
      "source": [
        "Faça um programa que receba dois números maiores que zero, calcule e mostre um elevado ao outro."
      ],
      "metadata": {
        "id": "1oJ5qKwLW4tf"
      }
    },
    {
      "cell_type": "code",
      "source": [
        "num1  =  int ( input ( 'Digite um numero maior que zero: ' ))\n",
        "num2  =  int ( input ( 'Digite um numero maior que zero: ' ))\n",
        "\n",
        "if  num1  >  0 and num2 > 0:\n",
        "    print(\"resultado \",num1**num2)\n",
        "elif  num1  <=  0 :\n",
        "    print ( \"numero inválido!\" )"
      ],
      "metadata": {
        "colab": {
          "base_uri": "https://localhost:8080/"
        },
        "id": "NjuNTExDW2Am",
        "outputId": "f7938552-dffc-42f3-9bdf-5da2a8e8641e"
      },
      "execution_count": 26,
      "outputs": [
        {
          "output_type": "stream",
          "name": "stdout",
          "text": [
            "Digite um numero maior que zero: 2\n",
            "Digite um numero maior que zero: 2\n",
            "resultado  4\n"
          ]
        }
      ]
    },
    {
      "cell_type": "markdown",
      "source": [
        "Sabe-se que: pé = 12 polegadas; 1 jarda = 3 pés e 1 milha = 1,760 jarda. Faça um programa que receba uma medida em pés, faça as conversões a seguir e mostre os resultados.\n",
        "polegadas;\n",
        "jardas;\n",
        "milhas."
      ],
      "metadata": {
        "id": "3YalWXXGL5Ds"
      }
    },
    {
      "cell_type": "code",
      "source": [
        "numero = int(input(\"digite seu número em pés: \"))\n",
        "\n",
        "\n",
        "polegadas = numero*12\n",
        "jarda = numero*3\n",
        "milha = numero*1760\n",
        "\n",
        "print(\"Em polegadas fica: \", polegadas)\n",
        "print(\"Em jarda fica: \" ,jarda)\n",
        "print(\"Em milha fica: \", milha)\n"
      ],
      "metadata": {
        "colab": {
          "base_uri": "https://localhost:8080/"
        },
        "id": "RXP-dXv8X72l",
        "outputId": "4e4ac92e-8b23-458b-e1c0-bb99dd350285"
      },
      "execution_count": 27,
      "outputs": [
        {
          "output_type": "stream",
          "name": "stdout",
          "text": [
            "digite seu número em pés: 35\n",
            "Em polegadas fica:  420\n",
            "Em jarda fica:  105\n",
            "Em milha fica:  61600\n"
          ]
        }
      ]
    },
    {
      "cell_type": "markdown",
      "source": [
        "Escreva um programa que receba como entrada um número de 5 dígitos, separe o número em dígitos individuais e os imprima separados por 3 espaços cada um. Por exemplo, se o usuário digitar 42339, o programa deverá imprimir: 4 2 3 3. Dica: utilize as operações de divisão e módulo para extrair cada dígito do número."
      ],
      "metadata": {
        "id": "mDLJGf96L8oM"
      }
    },
    {
      "cell_type": "markdown",
      "source": [
        "A nota final de um estudante é calculada a partir de três notas atribuídas, respectivamente, a um trabalho de laboratório, a uma avaliação semestral e a um exame final. A média das três notas mencionadas obedece aos pesos a seguir:\n",
        "Nota\tPeso\n",
        "Trabalho de Laboratório\t2\n",
        "Avaliação Semestral\t3\n",
        "Exame Final\t5\n",
        "Faça um programa que receba as três notas, calcule e mostre a média ponderada e o conceito que segue a tabela:\n",
        "\n",
        "Média Ponderada\tConceito\n",
        "8,00 <= Média <= 10,00\tA\n",
        "7,00 <= Média < 8,00\tB\n",
        "6,00 <= Média < 7,00\tC\n",
        "5,00 <= Média < 6,00\tD\n",
        "0,00 <= Média < 5,00\tE"
      ],
      "metadata": {
        "id": "hXTPvpDmMC3d"
      }
    },
    {
      "cell_type": "code",
      "source": [
        "num1 = float(input(\"Digite o primeira nota: \"))\n",
        "num2 = float(input(\"Digite o segundoa nota: \"))\n",
        "num3 = float(input(\"Digite o terceira nota: \"))\n",
        "lab = num1+2\n",
        "sem = num2+3\n",
        "exame = num3+5\n",
        "print('A média das notas digitadas acima é: ',(lab+sem+exame)/3)"
      ],
      "metadata": {
        "id": "l1GDaTuDaAHo"
      },
      "execution_count": null,
      "outputs": []
    },
    {
      "cell_type": "markdown",
      "source": [
        "Faça um programa que receba três notas de um aluno, calcule e mostre a média aritmética e a mensagem constante na tabela a seguir.\n",
        "Média\tSituação\n",
        "7,00 <= Média <= 10,00\tAprovado\n",
        "3,00 <= Média < 7,00\tExame Especial\n",
        "0,00 <= Média < 3,00\tReprovado"
      ],
      "metadata": {
        "id": "lzeZkoCMMHTj"
      }
    },
    {
      "cell_type": "code",
      "source": [
        "num1 = float(input(\"Digite o primeira nota: \"))\n",
        "num2 = float(input(\"Digite o segundoa nota: \"))\n",
        "num3 = float(input(\"Digite o terceira nota: \"))\n",
        "media= (num1+num2+num3)/3\n",
        "\n",
        "if media >7:\n",
        "  print(\"aprovado\")\n",
        "elif media >3:\n",
        "    print('exame especial')\n",
        "else :\n",
        "    print(\"reprovado\")"
      ],
      "metadata": {
        "colab": {
          "base_uri": "https://localhost:8080/"
        },
        "id": "3zFRilJmawhg",
        "outputId": "6a806fff-0310-4a3e-a664-1839f333c62e"
      },
      "execution_count": 33,
      "outputs": [
        {
          "output_type": "stream",
          "name": "stdout",
          "text": [
            "Digite o primeira nota: 3\n",
            "Digite o segundoa nota: 3\n",
            "Digite o terceira nota: 3\n",
            "reprovado\n"
          ]
        }
      ]
    },
    {
      "cell_type": "markdown",
      "source": [
        "Faça um programa para resolver equações do 2º grau.\n",
        "Onde x é uma variável, sendo a, b e c constantes, com a ≠ 0\n",
        "\n",
        "ã\n",
        " \n",
        " \n"
      ],
      "metadata": {
        "id": "ouQaeSoyMPHr"
      }
    },
    {
      "cell_type": "code",
      "source": [
        "import math\n",
        "    \n",
        "a = int( input('Coeficiente a: ') )\n",
        "\n",
        "if(a==0):\n",
        "        print('Se a=0, não é equação do segundo grau.')\n",
        "else:\n",
        "        b = int( input('Coeficiente b: ') )\n",
        "        c = int( input('Coeficiente c: ') )\n",
        "        delta = b*b - (4*a*c)\n",
        "\n",
        "        if delta<0:\n",
        "            print('Delta menor que 0')\n",
        "        elif delta==0:\n",
        "            raiz = -b / (2*a)\n",
        "            print('Delta=0 , raiz = ',raiz)\n",
        "        else:\n",
        "            raiz1 = (-b + math.sqrt(delta) ) / (2*a)\n",
        "            raiz2 = (-b - math.sqrt(delta) ) / (2*a)\n",
        "            print('Raizes: ',raiz1,' e ',raiz2)"
      ],
      "metadata": {
        "colab": {
          "base_uri": "https://localhost:8080/"
        },
        "id": "JLPkUfLlgSVr",
        "outputId": "acf6dbf9-5ec9-4add-c436-e3bc2089ae35"
      },
      "execution_count": 4,
      "outputs": [
        {
          "output_type": "stream",
          "name": "stdout",
          "text": [
            "Equaçao do 2o grau da forma: ax² + bx + c\n",
            "Coeficiente a: 50\n",
            "Coeficiente b: 50\n",
            "Coeficiente c: 50\n",
            "Delta menor que 0. Raízes imaginárias. Tchau\n"
          ]
        }
      ]
    },
    {
      "cell_type": "markdown",
      "source": [
        "Faça um programa que receba vários números, calcule e mostre:\n",
        "\n",
        "A soma dos números digitados;\n",
        "A quantidade de números digitados;\n",
        "A média dos números digitados;\n",
        "O maior número digitado;\n",
        "O menor número digitado;\n",
        "A média dos números pares;\n",
        "A porcentagem dos números ímpares entre todos os números digitados.\n",
        "Finalize a entrada de dados com a digitação do número 0."
      ],
      "metadata": {
        "id": "fdEi2xUgMYcj"
      }
    },
    {
      "cell_type": "code",
      "source": [
        "qtdNum = 0\n",
        "somaNum = 0\n",
        "maior = 0\n",
        "menor = 0\n",
        "somaPar = 0\n",
        "qtdPar = 0\n",
        "qtdImpar = 0\n",
        "\n",
        "num = int(input('Digite um valor ou 0 para finalizar o programa'))\n",
        "maior = num\n",
        "menor = num\n",
        "while(num !=0):\n",
        "   qtdNum += 1\n",
        "   somaNum += num \n",
        "   if num > maior:\n",
        "       maior = num\n",
        "   elif num < menor:\n",
        "       menor = num\n",
        "   if num % 2 == 0:\n",
        "       qtdPar += 1\n",
        "\n",
        "       somaPar += num\n",
        "\n",
        "   else:\n",
        "\n",
        "       qtdImpar += 1\n",
        "\n",
        "   num = int(input('Digite um valor ou 0 para finalizar o programa'))\n",
        "print(' ')\n",
        "print('----------------------------------------------------')\n",
        "print(' ')\n",
        "\n",
        "print('Quantidade de números digitados: ',qtdNum)\n",
        "\n",
        "print('Média dos números: ',somaNum / qtdNum)\n",
        "\n",
        "print('O maior número digitado foi: ',maior)\n",
        "\n",
        "print('O menor número digitado foi: ',menor)\n",
        "\n",
        "print('Média dos números pares: ',somaPar / qtdPar)\n",
        "\n",
        "print('Porcentagem de números ímpares: ',qtdImpar / qtdNum * 100)\n"
      ],
      "metadata": {
        "colab": {
          "base_uri": "https://localhost:8080/"
        },
        "id": "mOC0TuWFh7vB",
        "outputId": "17741b1f-fc8c-4d5c-9b57-7e27874f2fc0"
      },
      "execution_count": 14,
      "outputs": [
        {
          "output_type": "stream",
          "name": "stdout",
          "text": [
            "Digite um valor ou 0 para finalizar o programa2\n",
            "Digite um valor ou 0 para finalizar o programa5\n",
            "Digite um valor ou 0 para finalizar o programa4\n",
            "Digite um valor ou 0 para finalizar o programa0\n",
            " \n",
            "----------------------------------------------------\n",
            " \n",
            "Quantidade de números digitados:  3\n",
            "Média dos números:  3.6666666666666665\n",
            "O maior número digitado foi:  5\n",
            "O menor número digitado foi:  2\n",
            "Média dos números pares:  3.0\n",
            "Porcentagem de números ímpares:  33.33333333333333\n"
          ]
        }
      ]
    },
    {
      "cell_type": "code",
      "source": [
        ""
      ],
      "metadata": {
        "id": "m28UD36aMm_b"
      },
      "execution_count": null,
      "outputs": []
    }
  ]
}